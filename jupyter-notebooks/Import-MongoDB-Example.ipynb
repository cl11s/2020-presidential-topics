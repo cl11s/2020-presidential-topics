{
 "cells": [
  {
   "cell_type": "code",
   "execution_count": 3,
   "metadata": {},
   "outputs": [],
   "source": [
    "\"\"\"Pymongo is driver for MongoDB related persistence\"\"\"\n",
    "from pymongo import MongoClient # For cluster connections, also requires dnspython package\n",
    "from urllib.parse import urlparse\n",
    "import pandas as pd\n",
    "import os"
   ]
  },
  {
   "cell_type": "code",
   "execution_count": null,
   "metadata": {},
   "outputs": [],
   "source": [
    "\"\"\"Set environment variable for connection string\"\"\"\n",
    "%env MONGODB_CONNECTION="
   ]
  },
  {
   "cell_type": "code",
   "execution_count": 5,
   "metadata": {},
   "outputs": [],
   "source": [
    "class MongoDBConnect():\n",
    "    \"\"\"The Mongo database connector\n",
    "    Args:\n",
    "        host: host to connect\n",
    "    \"\"\"\n",
    "\n",
    "    def __init__(self, host):\n",
    "        self.host = host\n",
    "        self.connection = None\n",
    "\n",
    "    def __enter__(self):\n",
    "        self.connection = MongoClient(self.host)\n",
    "        print('Mongo connection created: {0}'.format(self.connection))\n",
    "        return self\n",
    "\n",
    "    def __exit__(self, exc_type, exc_val, exc_tb):\n",
    "        self.connection.close()\n",
    "\n",
    "    def get_all(self, collection, limit=0, order=1):\n",
    "        \"\"\"\n",
    "        MongoDB get all items\n",
    "        Args:\n",
    "            collection: collection to get from\n",
    "            limit: integer of limit of items to retrieve, ie, 1000, 2000, etc.\n",
    "            order: datetime sort: asc 1, desc -1\n",
    "        \"\"\"\n",
    "        try:\n",
    "            collection = self.connection[urlparse(\n",
    "                self.host).path[1:]][collection]\n",
    "            items = collection.find().sort('created_at', order).limit(limit)  # oldest default, no limit default\n",
    "            print('Successfully found {0} items'.format(items.count(with_limit_and_skip=True)))\n",
    "            return items\n",
    "        except Exception as e:\n",
    "            print('PyMongo database error: {0}'.format(str(e)))\n",
    "            raise e\n"
   ]
  },
  {
   "cell_type": "code",
   "execution_count": null,
   "metadata": {
    "scrolled": true
   },
   "outputs": [],
   "source": [
    "conn = os.getenv(\"MONGODB_CONNECTION\")\n",
    "with MongoDBConnect(conn) as db:\n",
    "    items = db.get_all(collection=\"tweets\", limit=1000)\n",
    "    df = pd.DataFrame.from_dict(items)\n",
    "    print(df.head())\n",
    "    # Change dtypes as needed (default as object)"
   ]
  },
  {
   "cell_type": "code",
   "execution_count": null,
   "metadata": {},
   "outputs": [],
   "source": []
  }
 ],
 "metadata": {
  "kernelspec": {
   "display_name": "Python 3",
   "language": "python",
   "name": "python3"
  },
  "language_info": {
   "codemirror_mode": {
    "name": "ipython",
    "version": 3
   },
   "file_extension": ".py",
   "mimetype": "text/x-python",
   "name": "python",
   "nbconvert_exporter": "python",
   "pygments_lexer": "ipython3",
   "version": "3.6.12"
  }
 },
 "nbformat": 4,
 "nbformat_minor": 2
}
